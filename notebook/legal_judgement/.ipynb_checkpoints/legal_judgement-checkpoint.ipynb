{
 "cells": [
  {
   "cell_type": "markdown",
   "id": "8f17a700",
   "metadata": {
    "papermill": {
     "duration": 0.044283,
     "end_time": "2022-07-21T15:25:42.027786",
     "exception": false,
     "start_time": "2022-07-21T15:25:41.983503",
     "status": "completed"
    },
    "tags": []
   },
   "source": [
    "# **Overview**\n",
    "In this notebook, I perform predictive modeling using machine learning and deep learning algorithms. \n",
    "For machine learning, I utilize Logistic Regression, Multinomial Naive Bayes, Linear SVM, and XGBoost. \n",
    "For deep learning, I employ a combination of CNN+LSTM and BERT."
   ]
  },
  {
   "cell_type": "markdown",
   "id": "db2ed01f-8fcd-48dc-b9c0-d6543d3ed4dc",
   "metadata": {},
   "source": [
    "# **Importing Libraries**"
   ]
  },
  {
   "cell_type": "code",
   "execution_count": null,
   "id": "19468595-eb89-4814-aefa-4160e454cac4",
   "metadata": {},
   "outputs": [],
   "source": [
    "import os\n",
    "import numpy as np\n",
    "import pandas as pd\n",
    "import seaborn as sns\n",
    "import matplotlib.pyplot as plt\n",
    "from nltk.corpus import stopwords\n",
    "from nltk.stem import WordNetLemmatizer\n",
    "from nltk.tokenize import word_tokenize\n",
    "from wordcloud import WordCloud,STOPWORDS\n",
    "from bs4 import BeautifulSoup\n",
    "import re,string,unicodedata\n",
    "\n",
    "from sklearn.feature_extraction.text import CountVectorizer, TfidfVectorizer\n",
    "from sklearn.linear_model import LogisticRegression\n",
    "\n",
    "from sklearn.svm import LinearSVC\n",
    "from sklearn.ensemble import GradientBoostingClassifier\n",
    "from sklearn.naive_bayes import GaussianNB, MultinomialNB\n",
    "from sklearn.model_selection import train_test_split\n",
    "from sklearn.metrics import classification_report, accuracy_score, confusion_matrix, ConfusionMatrixDisplay, RocCurveDisplay, PrecisionRecallDisplay\n",
    "from xgboost.sklearn import XGBClassifier\n",
    "\n",
    "import tensorflow as tf\n",
    "from tensorflow.keras.preprocessing.text import Tokenizer\n",
    "from tensorflow.keras.preprocessing.sequence import pad_sequences\n",
    "from tensorflow.keras.callbacks import ModelCheckpoint\n",
    "from tensorflow.keras.layers import Dense,Input, Embedding,LSTM,Dropout,Conv1D, MaxPooling1D, GlobalMaxPooling1D,Dropout,Bidirectional,Flatten,BatchNormalization\n",
    "from tensorflow.keras.callbacks import EarlyStopping\n",
    "from tensorflow.keras.models import Model\n",
    "from tensorflow.keras.optimizers import Adam\n",
    "from tensorflow.keras.utils import plot_model\n",
    "import transformers\n",
    "import tokenizers"
   ]
  },
  {
   "cell_type": "code",
   "execution_count": null,
   "id": "20c8bca1-886f-4ddd-934f-8dcb752f464d",
   "metadata": {},
   "outputs": [],
   "source": [
    "data=pd.read_csv('processed_justice.csv')\n",
    "data.head()"
   ]
  },
  {
   "cell_type": "markdown",
   "id": "9d6a6a2b",
   "metadata": {
    "papermill": {
     "duration": null,
     "end_time": null,
     "exception": null,
     "start_time": null,
     "status": "pending"
    },
    "tags": []
   },
   "source": [
    "# **A. Predictive Modelling using Machine Learning** "
   ]
  },
  {
   "cell_type": "code",
   "execution_count": null,
   "id": "08a3d91c",
   "metadata": {
    "papermill": {
     "duration": null,
     "end_time": null,
     "exception": null,
     "start_time": null,
     "status": "pending"
    },
    "tags": []
   },
   "outputs": [],
   "source": [
    "#splitting into train and test\n",
    "train, test= train_test_split(data, test_size=0.2, random_state=42)\n",
    "Xtrain, ytrain = train['facts'], train['verdict']\n",
    "Xtest, ytest = test['facts'], test['verdict']"
   ]
  },
  {
   "cell_type": "code",
   "execution_count": 37,
   "id": "2276bb44",
   "metadata": {
    "papermill": {
     "duration": null,
     "end_time": null,
     "exception": null,
     "start_time": null,
     "status": "pending"
    },
    "tags": []
   },
   "outputs": [],
   "source": [
    "#Vectorizing data\n",
    "\n",
    "tfidf_vect = TfidfVectorizer() #tfidfVectorizer\n",
    "Xtrain_tfidf = tfidf_vect.fit_transform(Xtrain)\n",
    "Xtest_tfidf = tfidf_vect.transform(Xtest)\n",
    "\n",
    "\n",
    "count_vect = CountVectorizer() # CountVectorizer\n",
    "Xtrain_count = count_vect.fit_transform(Xtrain)\n",
    "Xtest_count = count_vect.transform(Xtest)"
   ]
  },
  {
   "cell_type": "markdown",
   "id": "d77f8158",
   "metadata": {
    "execution": {
     "iopub.execute_input": "2021-07-23T07:02:58.678286Z",
     "iopub.status.busy": "2021-07-23T07:02:58.677968Z",
     "iopub.status.idle": "2021-07-23T07:03:02.363725Z",
     "shell.execute_reply": "2021-07-23T07:03:02.362283Z",
     "shell.execute_reply.started": "2021-07-23T07:02:58.678257Z"
    },
    "papermill": {
     "duration": null,
     "end_time": null,
     "exception": null,
     "start_time": null,
     "status": "pending"
    },
    "tags": []
   },
   "source": [
    "### Logistic Regression"
   ]
  },
  {
   "cell_type": "code",
   "execution_count": 38,
   "id": "c6b6c04f",
   "metadata": {
    "papermill": {
     "duration": null,
     "end_time": null,
     "exception": null,
     "start_time": null,
     "status": "pending"
    },
    "tags": []
   },
   "outputs": [
    {
     "name": "stdout",
     "output_type": "stream",
     "text": [
      "Logistic Regression Accuracy : 63.09%\n"
     ]
    },
    {
     "data": {
      "image/png": "[encoded data removed]",
      "text/plain": [
       "<Figure size 640x480 with 2 Axes>"
      ]
     },
     "metadata": {},
     "output_type": "display_data"
    }
   ],
   "source": [
    "lr = LogisticRegression()\n",
    "lr.fit(Xtrain_tfidf,ytrain)\n",
    "p1=lr.predict(Xtest_tfidf)\n",
    "s1=accuracy_score(ytest,p1)\n",
    "print(\"Logistic Regression Accuracy :\", \"{:.2f}%\".format(100*s1))\n",
    "cm = confusion_matrix(ytest,p1)\n",
    "disp = ConfusionMatrixDisplay(confusion_matrix=cm)\n",
    "disp = disp.plot(cmap=\"Reds\")\n",
    "plt.show()"
   ]
  },
  {
   "cell_type": "markdown",
   "id": "f9e8b674",
   "metadata": {
    "execution": {
     "iopub.execute_input": "2021-07-23T07:03:18.71965Z",
     "iopub.status.busy": "2021-07-23T07:03:18.719323Z",
     "iopub.status.idle": "2021-07-23T07:03:19.008027Z",
     "shell.execute_reply": "2021-07-23T07:03:19.007032Z",
     "shell.execute_reply.started": "2021-07-23T07:03:18.71962Z"
    },
    "papermill": {
     "duration": null,
     "end_time": null,
     "exception": null,
     "start_time": null,
     "status": "pending"
    },
    "tags": []
   },
   "source": [
    "### Multinomial Naive Bayes"
   ]
  },
  {
   "cell_type": "code",
   "execution_count": 39,
   "id": "75549baf",
   "metadata": {
    "papermill": {
     "duration": null,
     "end_time": null,
     "exception": null,
     "start_time": null,
     "status": "pending"
    },
    "tags": []
   },
   "outputs": [
    {
     "name": "stdout",
     "output_type": "stream",
     "text": [
      "Multinomial Naive Bayes Classifier Accuracy : 63.09%\n"
     ]
    },
    {
     "data": {
      "image/png": "[encoded data removed]",
      "text/plain": [
       "<Figure size 640x480 with 2 Axes>"
      ]
     },
     "metadata": {},
     "output_type": "display_data"
    }
   ],
   "source": [
    "mnb= MultinomialNB()\n",
    "mnb.fit(Xtrain_tfidf,ytrain)\n",
    "p2=mnb.predict(Xtest_tfidf)\n",
    "s2=accuracy_score(ytest,p2)\n",
    "print(\"Multinomial Naive Bayes Classifier Accuracy :\", \"{:.2f}%\".format(100*s2))\n",
    "cm = confusion_matrix(ytest,p2)\n",
    "disp = ConfusionMatrixDisplay(confusion_matrix=cm)\n",
    "disp = disp.plot(cmap=\"Reds\")\n",
    "plt.show()"
   ]
  },
  {
   "cell_type": "markdown",
   "id": "b60ede3b",
   "metadata": {
    "execution": {
     "iopub.execute_input": "2021-07-23T07:03:37.358139Z",
     "iopub.status.busy": "2021-07-23T07:03:37.357687Z",
     "iopub.status.idle": "2021-07-23T07:03:40.151133Z",
     "shell.execute_reply": "2021-07-23T07:03:40.150309Z",
     "shell.execute_reply.started": "2021-07-23T07:03:37.358096Z"
    },
    "papermill": {
     "duration": null,
     "end_time": null,
     "exception": null,
     "start_time": null,
     "status": "pending"
    },
    "tags": []
   },
   "source": [
    "### Linear SVM"
   ]
  },
  {
   "cell_type": "code",
   "execution_count": 40,
   "id": "a5851010",
   "metadata": {
    "papermill": {
     "duration": null,
     "end_time": null,
     "exception": null,
     "start_time": null,
     "status": "pending"
    },
    "tags": []
   },
   "outputs": [
    {
     "name": "stderr",
     "output_type": "stream",
     "text": [
      "C:\\Users\\Anita Singh\\AppData\\Local\\Programs\\Python\\Python311\\Lib\\site-packages\\sklearn\\svm\\_classes.py:32: FutureWarning: The default value of `dual` will change from `True` to `'auto'` in 1.5. Set the value of `dual` explicitly to suppress the warning.\n",
      "  warnings.warn(\n"
     ]
    },
    {
     "name": "stdout",
     "output_type": "stream",
     "text": [
      "Linear Support Vector Classifier Accuracy : 60.82%\n"
     ]
    },
    {
     "data": {
      "image/png": "[encoded data removed]",
      "text/plain": [
       "<Figure size 640x480 with 2 Axes>"
      ]
     },
     "metadata": {},
     "output_type": "display_data"
    }
   ],
   "source": [
    "linear_svc = LinearSVC(penalty='l2',loss = 'hinge')\n",
    "linear_svc.fit(Xtrain_tfidf,ytrain)\n",
    "p3=linear_svc.predict(Xtest_tfidf)\n",
    "s3=accuracy_score(ytest,p3)\n",
    "print(\"Linear Support Vector Classifier Accuracy :\", \"{:.2f}%\".format(100*s3))\n",
    "cm = confusion_matrix(ytest,p3)\n",
    "disp = ConfusionMatrixDisplay(confusion_matrix=cm)\n",
    "disp = disp.plot(cmap=\"Reds\")\n",
    "plt.show()"
   ]
  },
  {
   "cell_type": "markdown",
   "id": "d2abd2b9",
   "metadata": {
    "execution": {
     "iopub.execute_input": "2021-07-23T07:04:08.496879Z",
     "iopub.status.busy": "2021-07-23T07:04:08.496531Z",
     "iopub.status.idle": "2021-07-23T07:06:36.237208Z",
     "shell.execute_reply": "2021-07-23T07:06:36.235223Z",
     "shell.execute_reply.started": "2021-07-23T07:04:08.496829Z"
    },
    "papermill": {
     "duration": null,
     "end_time": null,
     "exception": null,
     "start_time": null,
     "status": "pending"
    },
    "tags": []
   },
   "source": [
    "### XGboost "
   ]
  },
  {
   "cell_type": "code",
   "execution_count": 41,
   "id": "f0587bd1",
   "metadata": {
    "papermill": {
     "duration": null,
     "end_time": null,
     "exception": null,
     "start_time": null,
     "status": "pending"
    },
    "tags": []
   },
   "outputs": [
    {
     "name": "stderr",
     "output_type": "stream",
     "text": [
      "C:\\Users\\Anita Singh\\AppData\\Local\\Programs\\Python\\Python311\\Lib\\site-packages\\xgboost\\data.py:520: FutureWarning: is_sparse is deprecated and will be removed in a future version. Check `isinstance(dtype, pd.SparseDtype)` instead.\n",
      "  if is_sparse(data):\n"
     ]
    },
    {
     "name": "stdout",
     "output_type": "stream",
     "text": [
      "XGBoost Accuracy : 61.88%\n"
     ]
    },
    {
     "data": {
      "image/png": "[encoded data removed]",
      "text/plain": [
       "<Figure size 640x480 with 2 Axes>"
      ]
     },
     "metadata": {},
     "output_type": "display_data"
    }
   ],
   "source": [
    "xgbo = XGBClassifier()\n",
    "xgbo.fit(Xtrain_tfidf,ytrain)\n",
    "p4=xgbo.predict(Xtest_tfidf)\n",
    "s4=accuracy_score(ytest,p4)\n",
    "print(\"XGBoost Accuracy :\", \"{:.2f}%\".format(100*s4))\n",
    "cm = confusion_matrix(ytest,p4)\n",
    "disp = ConfusionMatrixDisplay(confusion_matrix=cm)\n",
    "disp = disp.plot(cmap=\"Reds\")\n",
    "plt.show()"
   ]
  },
  {
   "cell_type": "markdown",
   "id": "fc32b646",
   "metadata": {
    "papermill": {
     "duration": null,
     "end_time": null,
     "exception": null,
     "start_time": null,
     "status": "pending"
    },
    "tags": []
   },
   "source": [
    "# **B. Predictive Modelling using Deep Learning** "
   ]
  },
  {
   "cell_type": "code",
   "execution_count": 42,
   "id": "4b4ebab3",
   "metadata": {
    "papermill": {
     "duration": null,
     "end_time": null,
     "exception": null,
     "start_time": null,
     "status": "pending"
    },
    "tags": []
   },
   "outputs": [],
   "source": [
    "def plotLearningCurve(history,epochs):\n",
    "  epochRange = range(1,epochs+1)\n",
    "  fig , ax = plt.subplots(1,2,figsize = (10,5))\n",
    "  \n",
    "  ax[0].plot(epochRange,history.history['accuracy'],label = 'Training Accuracy')\n",
    "  ax[0].plot(epochRange,history.history['val_accuracy'],label = 'Validation Accuracy')\n",
    "  ax[0].set_title('Training and Validation accuracy')\n",
    "  ax[0].set_xlabel('Epoch')\n",
    "  ax[0].set_ylabel('Accuracy')\n",
    "  ax[0].legend()\n",
    "  ax[1].plot(epochRange,history.history['loss'],label = 'Training Loss')\n",
    "  ax[1].plot(epochRange,history.history['val_loss'],label = 'Validation Loss')\n",
    "  ax[1].set_title('Training and Validation loss')\n",
    "  ax[1].set_xlabel('Epoch')\n",
    "  ax[1].set_ylabel('Loss')\n",
    "  ax[1].legend()\n",
    "  fig.tight_layout()\n",
    "  plt.show()"
   ]
  },
  {
   "cell_type": "code",
   "execution_count": 43,
   "id": "a7baa39a",
   "metadata": {
    "papermill": {
     "duration": null,
     "end_time": null,
     "exception": null,
     "start_time": null,
     "status": "pending"
    },
    "tags": []
   },
   "outputs": [],
   "source": [
    "#splitting into train and test\n",
    "data_copy['facts']=data_copy['facts'].apply(clean_text,lemmatize = False)\n",
    "#converting target variable to numerical value\n",
    "data_copy['verdict'] = [ 1 if each == True else 0 for each in data_copy.first_party_winner]\n",
    "train, test= train_test_split(data_copy, test_size=0.2, random_state=42)\n",
    "Xtrain, ytrain = train['facts'], train['verdict']\n",
    "Xtest, ytest = test['facts'], test['verdict']"
   ]
  },
  {
   "cell_type": "markdown",
   "id": "196006f9",
   "metadata": {
    "papermill": {
     "duration": null,
     "end_time": null,
     "exception": null,
     "start_time": null,
     "status": "pending"
    },
    "tags": []
   },
   "source": [
    "### LSTM"
   ]
  },
  {
   "cell_type": "code",
   "execution_count": 44,
   "id": "0ad71125",
   "metadata": {
    "papermill": {
     "duration": null,
     "end_time": null,
     "exception": null,
     "start_time": null,
     "status": "pending"
    },
    "tags": []
   },
   "outputs": [
    {
     "name": "stdout",
     "output_type": "stream",
     "text": [
      "Vocabulary of the dataset is :  18862\n"
     ]
    }
   ],
   "source": [
    "#set up the tokenizer\n",
    "MAX_VOCAB_SIZE = 10000\n",
    "tokenizer = Tokenizer(num_words = MAX_VOCAB_SIZE,oov_token=\"<oov>\")\n",
    "tokenizer.fit_on_texts(Xtrain)\n",
    "word_index = tokenizer.word_index\n",
    "#print(word_index)\n",
    "V = len(word_index)\n",
    "print(\"Vocabulary of the dataset is : \",V)\n"
   ]
  },
  {
   "cell_type": "code",
   "execution_count": 45,
   "id": "a5733d46",
   "metadata": {
    "papermill": {
     "duration": null,
     "end_time": null,
     "exception": null,
     "start_time": null,
     "status": "pending"
    },
    "tags": []
   },
   "outputs": [],
   "source": [
    "##create sequences of facts\n",
    "seq_train = tokenizer.texts_to_sequences(Xtrain)\n",
    "seq_test =  tokenizer.texts_to_sequences(Xtest)"
   ]
  },
  {
   "cell_type": "code",
   "execution_count": 46,
   "id": "ddd963d2",
   "metadata": {
    "papermill": {
     "duration": null,
     "end_time": null,
     "exception": null,
     "start_time": null,
     "status": "pending"
    },
    "tags": []
   },
   "outputs": [
    {
     "name": "stdout",
     "output_type": "stream",
     "text": [
      "Maximum length of sequence in the list: 533\n"
     ]
    }
   ],
   "source": [
    "#choice of maximum length of sequences\n",
    "seq_len_list = [len(i) for i in seq_train + seq_test]\n",
    "\n",
    "#if we take the direct maximum then\n",
    "max_len=max(seq_len_list)\n",
    "print('Maximum length of sequence in the list: {}'.format(max_len))"
   ]
  },
  {
   "cell_type": "code",
   "execution_count": 47,
   "id": "a66417db",
   "metadata": {
    "papermill": {
     "duration": null,
     "end_time": null,
     "exception": null,
     "start_time": null,
     "status": "pending"
    },
    "tags": []
   },
   "outputs": [
    {
     "name": "stdout",
     "output_type": "stream",
     "text": [
      "Maximum length of the sequence when considering data only two standard deviations from average: 191\n"
     ]
    }
   ],
   "source": [
    "# when setting the maximum length of sequence, variability around the average is used.\n",
    "max_seq_len = np.mean(seq_len_list) + 2 * np.std(seq_len_list)\n",
    "max_seq_len = int(max_seq_len)\n",
    "print('Maximum length of the sequence when considering data only two standard deviations from average: {}'.format(max_seq_len))"
   ]
  },
  {
   "cell_type": "code",
   "execution_count": 48,
   "id": "2dac0a58",
   "metadata": {
    "papermill": {
     "duration": null,
     "end_time": null,
     "exception": null,
     "start_time": null,
     "status": "pending"
    },
    "tags": []
   },
   "outputs": [
    {
     "name": "stdout",
     "output_type": "stream",
     "text": [
      "The above calculated number coveres approximately 95.76 % of data\n"
     ]
    }
   ],
   "source": [
    "perc_covered = np.sum(np.array(seq_len_list) < max_seq_len) / len(seq_len_list)*100\n",
    "print('The above calculated number coveres approximately {} % of data'.format(np.round(perc_covered,2)))\n"
   ]
  },
  {
   "cell_type": "markdown",
   "id": "79965d7a",
   "metadata": {
    "papermill": {
     "duration": null,
     "end_time": null,
     "exception": null,
     "start_time": null,
     "status": "pending"
    },
    "tags": []
   },
   "source": [
    "So we can use this number for our maxlen parameter."
   ]
  },
  {
   "cell_type": "code",
   "execution_count": 49,
   "id": "11d3f04f",
   "metadata": {
    "papermill": {
     "duration": null,
     "end_time": null,
     "exception": null,
     "start_time": null,
     "status": "pending"
    },
    "tags": []
   },
   "outputs": [],
   "source": [
    "#create padded sequences\n",
    "pad_train=pad_sequences(seq_train,truncating = 'post', padding = 'pre',maxlen=max_seq_len)\n",
    "pad_test=pad_sequences(seq_test,truncating = 'post', padding = 'pre',maxlen=max_seq_len)"
   ]
  },
  {
   "cell_type": "code",
   "execution_count": 50,
   "id": "a7fb7ea9",
   "metadata": {
    "papermill": {
     "duration": null,
     "end_time": null,
     "exception": null,
     "start_time": null,
     "status": "pending"
    },
    "tags": []
   },
   "outputs": [],
   "source": [
    "#Splitting training set for validation purposes\n",
    "Xtrain,Xval,ytrain,yval=train_test_split(pad_train,ytrain,\n",
    "                                             test_size=0.2,random_state=10)"
   ]
  },
  {
   "cell_type": "code",
   "execution_count": 51,
   "id": "d8b27c28",
   "metadata": {
    "papermill": {
     "duration": null,
     "end_time": null,
     "exception": null,
     "start_time": null,
     "status": "pending"
    },
    "tags": []
   },
   "outputs": [],
   "source": [
    "def lstm_model(Xtrain,Xval,ytrain,yval,V,D,maxlen,epochs):\n",
    "\n",
    "    print(\"----Building the model----\")\n",
    "    i = Input(shape=(maxlen,))\n",
    "    x = Embedding(V + 1, D,input_length = maxlen)(i)\n",
    "    x = BatchNormalization()(x)\n",
    "    x = Dropout(0.3)(x)\n",
    "    x = Conv1D(32,5,activation = 'relu')(x)\n",
    "    x = Dropout(0.3)(x)\n",
    "    x = MaxPooling1D(2)(x)\n",
    "    x = Bidirectional(LSTM(128,return_sequences=True))(x)\n",
    "    x = LSTM(64)(x)\n",
    "    x = Dropout(0.5)(x)\n",
    "    x = Dense(1, activation='sigmoid')(x)\n",
    "    model = Model(i, x)\n",
    "    model.summary()\n",
    "\n",
    "    #Training the LSTM\n",
    "    print(\"----Training the network----\")\n",
    "    model.compile(optimizer= Adam(0.0005),\n",
    "              loss='binary_crossentropy',\n",
    "              metrics=['accuracy'])\n",
    "    \n",
    "#     #early_stop = EarlyStopping(monitor='val_accuracy', \n",
    "#                                mode='min', \n",
    "#                                patience = 2 )\n",
    "#     #checkpoints= ModelCheckpoint(filepath='./',\n",
    "#                             monitor=\"val_accuracy\",\n",
    "#                             verbose=0,\n",
    "#                             save_best_only=True\n",
    "#                            )\n",
    "  #  callbacks = [checkpoints,early_stop]\n",
    "    r = model.fit(Xtrain,ytrain, \n",
    "                  validation_data = (Xval,yval), \n",
    "                  epochs = epochs, \n",
    "                  verbose = 2,\n",
    "                  batch_size = 32)\n",
    "                  #callbacks = callbacks\n",
    "    print(\"Train score:\", model.evaluate(Xtrain,ytrain))\n",
    "    print(\"Validation score:\", model.evaluate(Xval,yval))\n",
    "    n_epochs = len(r.history['loss'])\n",
    "    \n",
    "    return r,model,n_epochs \n"
   ]
  },
  {
   "cell_type": "code",
   "execution_count": 52,
   "id": "b5dc4be0",
   "metadata": {
    "papermill": {
     "duration": null,
     "end_time": null,
     "exception": null,
     "start_time": null,
     "status": "pending"
    },
    "tags": []
   },
   "outputs": [
    {
     "name": "stdout",
     "output_type": "stream",
     "text": [
      "----Building the model----\n",
      "Model: \"model\"\n",
      "_________________________________________________________________\n",
      " Layer (type)                Output Shape              Param #   \n",
      "=================================================================\n",
      " input_1 (InputLayer)        [(None, 191)]             0         \n",
      "                                                                 \n",
      " embedding (Embedding)       (None, 191, 64)           1207232   \n",
      "                                                                 \n",
      " batch_normalization (Batch  (None, 191, 64)           256       \n",
      " Normalization)                                                  \n",
      "                                                                 \n",
      " dropout (Dropout)           (None, 191, 64)           0         \n",
      "                                                                 \n",
      " conv1d (Conv1D)             (None, 187, 32)           10272     \n",
      "                                                                 \n",
      " dropout_1 (Dropout)         (None, 187, 32)           0         \n",
      "                                                                 \n",
      " max_pooling1d (MaxPooling1  (None, 93, 32)            0         \n",
      " D)                                                              \n",
      "                                                                 \n",
      " bidirectional (Bidirection  (None, 93, 256)           164864    \n",
      " al)                                                             \n",
      "                                                                 \n",
      " lstm_1 (LSTM)               (None, 64)                82176     \n",
      "                                                                 \n",
      " dropout_2 (Dropout)         (None, 64)                0         \n",
      "                                                                 \n",
      " dense (Dense)               (None, 1)                 65        \n",
      "                                                                 \n",
      "=================================================================\n",
      "Total params: 1464865 (5.59 MB)\n",
      "Trainable params: 1464737 (5.59 MB)\n",
      "Non-trainable params: 128 (512.00 Byte)\n",
      "_________________________________________________________________\n",
      "----Training the network----\n",
      "Epoch 1/5\n",
      "67/67 - 25s - loss: 0.6609 - accuracy: 0.6384 - val_loss: 0.6771 - val_accuracy: 0.6522 - 25s/epoch - 372ms/step\n",
      "Epoch 2/5\n",
      "67/67 - 13s - loss: 0.6501 - accuracy: 0.6488 - val_loss: 0.6828 - val_accuracy: 0.6503 - 13s/epoch - 199ms/step\n",
      "Epoch 3/5\n",
      "67/67 - 13s - loss: 0.6207 - accuracy: 0.6692 - val_loss: 0.6810 - val_accuracy: 0.6541 - 13s/epoch - 198ms/step\n",
      "Epoch 4/5\n",
      "67/67 - 13s - loss: 0.4447 - accuracy: 0.7932 - val_loss: 0.6811 - val_accuracy: 0.5766 - 13s/epoch - 197ms/step\n",
      "Epoch 5/5\n",
      "67/67 - 14s - loss: 0.2343 - accuracy: 0.9158 - val_loss: 0.6886 - val_accuracy: 0.5690 - 14s/epoch - 205ms/step\n",
      "67/67 [==============================] - 4s 61ms/step - loss: 0.3536 - accuracy: 0.9882\n",
      "Train score: [0.3535926043987274, 0.988168478012085]\n",
      "17/17 [==============================] - 1s 61ms/step - loss: 0.6886 - accuracy: 0.5690\n",
      "Validation score: [0.6885627508163452, 0.5689980983734131]\n"
     ]
    }
   ],
   "source": [
    "D = 64 #embedding dims\n",
    "epochs = 5\n",
    "r,model,n_epochs = lstm_model(Xtrain,Xval,ytrain,yval,V,D,max_seq_len,epochs)"
   ]
  },
  {
   "cell_type": "code",
   "execution_count": 53,
   "id": "bec80d3d",
   "metadata": {
    "papermill": {
     "duration": null,
     "end_time": null,
     "exception": null,
     "start_time": null,
     "status": "pending"
    },
    "tags": []
   },
   "outputs": [
    {
     "data": {
      "image/png": "[encoded data removed]",
      "text/plain": [
       "<Figure size 1000x500 with 2 Axes>"
      ]
     },
     "metadata": {},
     "output_type": "display_data"
    }
   ],
   "source": [
    "#Plot accuracy and loss\n",
    "plotLearningCurve(r,n_epochs)"
   ]
  },
  {
   "cell_type": "code",
   "execution_count": 54,
   "id": "9acce63f",
   "metadata": {
    "papermill": {
     "duration": null,
     "end_time": null,
     "exception": null,
     "start_time": null,
     "status": "pending"
    },
    "tags": []
   },
   "outputs": [
    {
     "name": "stdout",
     "output_type": "stream",
     "text": [
      "Evaluate Model Performance on Test set\n",
      "21/21 [==============================] - 1s 60ms/step - loss: 0.6653 - accuracy: 0.6021\n",
      "{'loss': 0.6653146147727966, 'accuracy': 0.6021180152893066}\n"
     ]
    }
   ],
   "source": [
    "print(\"Evaluate Model Performance on Test set\")\n",
    "result = model.evaluate(pad_test,ytest)\n",
    "print(dict(zip(model.metrics_names, result)))"
   ]
  },
  {
   "cell_type": "code",
   "execution_count": 55,
   "id": "7ed7eb7f",
   "metadata": {
    "papermill": {
     "duration": null,
     "end_time": null,
     "exception": null,
     "start_time": null,
     "status": "pending"
    },
    "tags": []
   },
   "outputs": [
    {
     "name": "stdout",
     "output_type": "stream",
     "text": [
      "21/21 [==============================] - 4s 61ms/step\n"
     ]
    },
    {
     "data": {
      "image/png": "[encoded data removed]",
      "text/plain": [
       "<Figure size 640x480 with 2 Axes>"
      ]
     },
     "metadata": {},
     "output_type": "display_data"
    }
   ],
   "source": [
    "#Generate predictions for the test dataset\n",
    "ypred = model.predict(pad_test)\n",
    "ypred = ypred>0.5\n",
    "#Get the confusion matrix\n",
    "cf_matrix = confusion_matrix(ytest, ypred)\n",
    "sns.heatmap(cf_matrix,annot = True,fmt ='g', cmap='Reds')\n",
    "plt.xlabel('Predicted label')\n",
    "plt.ylabel('True label')\n",
    "plt.show()"
   ]
  },
  {
   "cell_type": "markdown",
   "id": "b851a7e1",
   "metadata": {
    "papermill": {
     "duration": null,
     "end_time": null,
     "exception": null,
     "start_time": null,
     "status": "pending"
    },
    "tags": []
   },
   "source": [
    "### BERT\n"
   ]
  },
  {
   "cell_type": "code",
   "execution_count": 56,
   "id": "b263433e",
   "metadata": {
    "papermill": {
     "duration": null,
     "end_time": null,
     "exception": null,
     "start_time": null,
     "status": "pending"
    },
    "tags": []
   },
   "outputs": [],
   "source": [
    "train, test= train_test_split(data_copy, test_size=0.2, random_state=42)\n",
    "Xtrain, ytrain = train['facts'], train['verdict']\n",
    "Xtest, ytest = test['facts'], test['verdict']\n",
    "#splitting the train set into train and validation\n",
    "Xtrain,Xval,ytrain,yval=train_test_split(Xtrain,ytrain,\n",
    "                                             test_size=0.2,random_state=10)"
   ]
  },
  {
   "cell_type": "code",
   "execution_count": 57,
   "id": "d6a06d17",
   "metadata": {
    "papermill": {
     "duration": null,
     "end_time": null,
     "exception": null,
     "start_time": null,
     "status": "pending"
    },
    "tags": []
   },
   "outputs": [],
   "source": [
    "#Perform tokenization\n",
    "# automatically download the vocab used during pretraining or fine-tuning a given model,use from_pretrained() method\n",
    "tokenizer = transformers.AutoTokenizer.from_pretrained('distilbert-base-uncased')\n"
   ]
  },
  {
   "cell_type": "code",
   "execution_count": 58,
   "id": "64d096c6",
   "metadata": {
    "papermill": {
     "duration": null,
     "end_time": null,
     "exception": null,
     "start_time": null,
     "status": "pending"
    },
    "tags": []
   },
   "outputs": [],
   "source": [
    "#pass our texts to the tokenizer. \n",
    "Xtrain_enc = tokenizer(Xtrain.tolist(), max_length=max_seq_len, \n",
    "                         truncation=True, padding='max_length', \n",
    "                         add_special_tokens=True, return_tensors='np') #return numpy object\n",
    "Xval_enc = tokenizer(Xval.tolist(), max_length=max_seq_len, \n",
    "                         truncation=True, padding='max_length', \n",
    "                         add_special_tokens=True, return_tensors='np') #return numpy object\n",
    "Xtest_enc = tokenizer(Xtest.tolist(), max_length=max_seq_len, \n",
    "                         truncation=True, padding='max_length', \n",
    "                         add_special_tokens=True, return_tensors='np') #return numpy object\n",
    "\n",
    "\n"
   ]
  },
  {
   "cell_type": "code",
   "execution_count": 59,
   "id": "521fbf02",
   "metadata": {
    "papermill": {
     "duration": null,
     "end_time": null,
     "exception": null,
     "start_time": null,
     "status": "pending"
    },
    "tags": []
   },
   "outputs": [],
   "source": [
    "#preparing our datasets\n",
    "train_dataset = tf.data.Dataset.from_tensor_slices((\n",
    "    dict(Xtrain_enc),\n",
    "    ytrain\n",
    "))\n",
    "val_dataset = tf.data.Dataset.from_tensor_slices((\n",
    "    dict(Xval_enc),\n",
    "    yval\n",
    "))\n",
    "test_dataset = tf.data.Dataset.from_tensor_slices((\n",
    "    dict(Xtest_enc),\n",
    "    ytest\n",
    "))"
   ]
  },
  {
   "cell_type": "code",
   "execution_count": 60,
   "id": "375a0d84",
   "metadata": {
    "papermill": {
     "duration": null,
     "end_time": null,
     "exception": null,
     "start_time": null,
     "status": "pending"
    },
    "tags": []
   },
   "outputs": [],
   "source": [
    "def bert_model(train_dataset,val_dataset,transformer,max_len,epochs):\n",
    "    print(\"----Building the model----\")\n",
    "    input_ids = Input(shape=(max_len,), dtype=tf.int32, name=\"input_ids\")\n",
    "    attention_mask = Input(shape=(max_len,),dtype=tf.int32,name = 'attention_mask') #attention mask\n",
    "    sequence_output = transformer(input_ids,attention_mask)[0]\n",
    "    cls_token = sequence_output[:, 0, :]\n",
    "    x = Dense(512, activation='relu')(cls_token)\n",
    "    x = Dropout(0.1)(x)\n",
    "    y = Dense(1, activation='sigmoid')(x)\n",
    "    model = Model(inputs=[input_ids,attention_mask], outputs=y)\n",
    "    model.summary()\n",
    "    model.compile(Adam(lr=2e-5), loss='binary_crossentropy', metrics=['accuracy'])\n",
    "    r = model.fit(train_dataset.batch(32),batch_size = 32,\n",
    "                  validation_data = val_dataset.batch(32),epochs = epochs)\n",
    "                  #callbacks = callbacks\n",
    "    print(\"Train score:\", model.evaluate(train_dataset.batch(32)))\n",
    "    print(\"Validation score:\", model.evaluate(val_dataset.batch(32)))\n",
    "    n_epochs = len(r.history['loss'])\n",
    "    \n",
    "    return r,model,n_epochs "
   ]
  },
  {
   "cell_type": "code",
   "execution_count": 61,
   "id": "52a9c6be",
   "metadata": {
    "papermill": {
     "duration": null,
     "end_time": null,
     "exception": null,
     "start_time": null,
     "status": "pending"
    },
    "tags": []
   },
   "outputs": [
    {
     "name": "stderr",
     "output_type": "stream",
     "text": [
      "Some weights of the PyTorch model were not used when initializing the TF 2.0 model TFDistilBertModel: ['vocab_layer_norm.weight', 'vocab_transform.bias', 'vocab_layer_norm.bias', 'vocab_transform.weight', 'vocab_projector.bias']\n",
      "- This IS expected if you are initializing TFDistilBertModel from a PyTorch model trained on another task or with another architecture (e.g. initializing a TFBertForSequenceClassification model from a BertForPreTraining model).\n",
      "- This IS NOT expected if you are initializing TFDistilBertModel from a PyTorch model that you expect to be exactly identical (e.g. initializing a TFBertForSequenceClassification model from a BertForSequenceClassification model).\n",
      "All the weights of TFDistilBertModel were initialized from the PyTorch model.\n",
      "If your task is similar to the task the model of the checkpoint was trained on, you can already use TFDistilBertModel for predictions without further training.\n"
     ]
    }
   ],
   "source": [
    "transformer = transformers.TFDistilBertModel.from_pretrained('distilbert-base-uncased')"
   ]
  },
  {
   "cell_type": "code",
   "execution_count": null,
   "id": "e371ed50",
   "metadata": {
    "papermill": {
     "duration": null,
     "end_time": null,
     "exception": null,
     "start_time": null,
     "status": "pending"
    },
    "tags": []
   },
   "outputs": [
    {
     "name": "stdout",
     "output_type": "stream",
     "text": [
      "----Building the model----\n",
      "Model: \"model_1\"\n",
      "__________________________________________________________________________________________________\n",
      " Layer (type)                Output Shape                 Param #   Connected to                  \n",
      "==================================================================================================\n",
      " input_ids (InputLayer)      [(None, 191)]                0         []                            \n",
      "                                                                                                  \n",
      " attention_mask (InputLayer  [(None, 191)]                0         []                            \n",
      " )                                                                                                \n",
      "                                                                                                  \n",
      " tf_distil_bert_model (TFDi  TFBaseModelOutput(last_hid   6636288   ['input_ids[0][0]',           \n",
      " stilBertModel)              den_state=(None, 191, 768)   0          'attention_mask[0][0]']      \n",
      "                             , hidden_states=None, atte                                           \n",
      "                             ntions=None)                                                         \n",
      "                                                                                                  \n",
      " tf.__operators__.getitem (  (None, 768)                  0         ['tf_distil_bert_model[0][0]']\n",
      " SlicingOpLambda)                                                                                 \n",
      "                                                                                                  \n",
      " dense_1 (Dense)             (None, 512)                  393728    ['tf.__operators__.getitem[0][\n",
      "                                                                    0]']                          \n",
      "                                                                                                  \n",
      " dropout_22 (Dropout)        (None, 512)                  0         ['dense_1[0][0]']             \n",
      "                                                                                                  \n",
      " dense_2 (Dense)             (None, 1)                    513       ['dropout_22[0][0]']          \n",
      "                                                                                                  \n",
      "==================================================================================================\n",
      "Total params: 66757121 (254.66 MB)\n",
      "Trainable params: 66757121 (254.66 MB)\n",
      "Non-trainable params: 0 (0.00 Byte)\n",
      "__________________________________________________________________________________________________\n"
     ]
    },
    {
     "name": "stderr",
     "output_type": "stream",
     "text": [
      "WARNING:absl:`lr` is deprecated in Keras optimizer, please use `learning_rate` or use the legacy optimizer, e.g.,tf.keras.optimizers.legacy.Adam.\n"
     ]
    },
    {
     "name": "stdout",
     "output_type": "stream",
     "text": [
      "Epoch 1/8\n",
      "67/67 [==============================] - 751s 11s/step - loss: 0.7239 - accuracy: 0.6152 - val_loss: 0.6535 - val_accuracy: 0.6522\n",
      "Epoch 2/8\n",
      "67/67 [==============================] - 752s 11s/step - loss: 0.6518 - accuracy: 0.6512 - val_loss: 0.6492 - val_accuracy: 0.6522\n",
      "Epoch 3/8\n",
      "62/67 [==========================>...] - ETA: 38s - loss: 0.6510 - accuracy: 0.6517"
     ]
    }
   ],
   "source": [
    "epochs = 8\n",
    "max_len = max_seq_len\n",
    "r,model,n_epochs = bert_model(train_dataset,val_dataset,transformer,max_len,epochs)"
   ]
  },
  {
   "cell_type": "code",
   "execution_count": null,
   "id": "269664a1",
   "metadata": {
    "papermill": {
     "duration": null,
     "end_time": null,
     "exception": null,
     "start_time": null,
     "status": "pending"
    },
    "tags": []
   },
   "outputs": [],
   "source": [
    "#Plot accuracy and loss\n",
    "plotLearningCurve(r,n_epochs)"
   ]
  },
  {
   "cell_type": "code",
   "execution_count": null,
   "id": "9d8d3a74",
   "metadata": {
    "papermill": {
     "duration": null,
     "end_time": null,
     "exception": null,
     "start_time": null,
     "status": "pending"
    },
    "tags": []
   },
   "outputs": [],
   "source": [
    "print(\"Evaluate Model Performance on Test set\")\n",
    "result = model.evaluate(test_dataset.batch(32))\n",
    "print(dict(zip(model.metrics_names, result)))"
   ]
  },
  {
   "cell_type": "code",
   "execution_count": null,
   "id": "75e886b6",
   "metadata": {
    "papermill": {
     "duration": null,
     "end_time": null,
     "exception": null,
     "start_time": null,
     "status": "pending"
    },
    "tags": []
   },
   "outputs": [],
   "source": [
    "#Generate predictions for the test dataset\n",
    "ypred = model.predict(test_dataset.batch(32))\n",
    "ypred = ypred>0.5\n",
    "#Get the confusion matrix\n",
    "cf_matrix = confusion_matrix(ytest, ypred)\n",
    "sns.heatmap(cf_matrix,annot = True,fmt ='g', cmap='Reds')\n",
    "plt.xlabel('Predicted label')\n",
    "plt.ylabel('True label')\n",
    "plt.show()"
   ]
  },
  {
   "cell_type": "markdown",
   "id": "cea4ad96",
   "metadata": {
    "papermill": {
     "duration": null,
     "end_time": null,
     "exception": null,
     "start_time": null,
     "status": "pending"
    },
    "tags": []
   },
   "source": [
    "### "
   ]
  }
 ],
 "metadata": {
  "kernelspec": {
   "display_name": "Python 3 (ipykernel)",
   "language": "python",
   "name": "python3"
  },
  "language_info": {
   "codemirror_mode": {
    "name": "ipython",
    "version": 3
   },
   "file_extension": ".py",
   "mimetype": "text/x-python",
   "name": "python",
   "nbconvert_exporter": "python",
   "pygments_lexer": "ipython3",
   "version": "3.11.4"
  },
  "papermill": {
   "default_parameters": {},
   "duration": 11.380585,
   "end_time": "2022-07-21T15:25:48.296260",
   "environment_variables": {},
   "exception": true,
   "input_path": "__notebook__.ipynb",
   "output_path": "__notebook__.ipynb",
   "parameters": {},
   "start_time": "2022-07-21T15:25:36.915675",
   "version": "2.3.3"
  }
 },
 "nbformat": 4,
 "nbformat_minor": 5
}
